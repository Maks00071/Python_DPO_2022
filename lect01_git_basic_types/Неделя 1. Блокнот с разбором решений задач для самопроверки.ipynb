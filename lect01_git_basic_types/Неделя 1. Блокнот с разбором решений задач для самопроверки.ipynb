{
 "cells": [
  {
   "cell_type": "markdown",
   "metadata": {},
   "source": [
    "# Неделя 1. Задачи для самопроверки"
   ]
  },
  {
   "cell_type": "markdown",
   "metadata": {
    "id": "DkeJhbQq0-9j"
   },
   "source": [
    "## 1. Самая первая задача\n",
    "\n",
    "Самая первая задача\n",
    "Напишите программу, которая пригласит человека забрать готовую пиццу из зоны выдачи, написав `“Имя, Ваша пицца готова!”`.\n",
    "\n",
    "#### ФОРМАТ ВВОДА: \n",
    "\n",
    "* Строка с именем\n",
    "\n",
    "#### ФОРМАТ ВЫВОДА:\n",
    "\n",
    "* Фраза вида `“Имя, Ваша пицца готова!”`"
   ]
  },
  {
   "cell_type": "markdown",
   "metadata": {
    "id": "KdVW_6BC2nVI"
   },
   "source": [
    "#### Шаг 1"
   ]
  },
  {
   "cell_type": "markdown",
   "metadata": {
    "id": "4rxeuAjL2hWm"
   },
   "source": [
    "Для начала мы должны узнать имя нашего клиента, воспользуемся уже известной нам функцией ввода `input()`, а в качестве аргумента передадим приветственное сообщение. "
   ]
  },
  {
   "cell_type": "code",
   "execution_count": null,
   "metadata": {
    "colab": {
     "base_uri": "https://localhost:8080/"
    },
    "id": "3lYABCB62NT4",
    "outputId": "d6b6a0f8-17cb-4590-a76f-60daf4c23502"
   },
   "outputs": [
    {
     "name": "stdout",
     "output_type": "stream",
     "text": [
      "Как ваше имя? Мария\n"
     ]
    }
   ],
   "source": [
    "name = input('Как ваше имя? ')"
   ]
  },
  {
   "cell_type": "markdown",
   "metadata": {
    "id": "WO0dO5J72qFk"
   },
   "source": [
    "#### Шаг 2"
   ]
  },
  {
   "cell_type": "markdown",
   "metadata": {
    "id": "FGf-Lj_T5G8w"
   },
   "source": [
    "Вторым шагом мы выводим нужный нам текст на экран, используя изученную конструкцию **f-строки**. <br> Подставляем переменную **`name`** в фигурные скобки — `{name}`, и пишем нужный текст после нее. "
   ]
  },
  {
   "cell_type": "code",
   "execution_count": null,
   "metadata": {
    "colab": {
     "base_uri": "https://localhost:8080/"
    },
    "id": "p5OJR0U80_fu",
    "outputId": "0b2e0db9-b1f3-4b11-c8e3-67a5fc88115e"
   },
   "outputs": [
    {
     "name": "stdout",
     "output_type": "stream",
     "text": [
      "Мария, Ваша пицца готова!\n"
     ]
    }
   ],
   "source": [
    "print(f'{name}, Ваша пицца готова!')"
   ]
  },
  {
   "cell_type": "markdown",
   "metadata": {
    "id": "4LITBmRJRdaS"
   },
   "source": [
    "#### Итоговое решение"
   ]
  },
  {
   "cell_type": "code",
   "execution_count": 1,
   "metadata": {
    "colab": {
     "base_uri": "https://localhost:8080/"
    },
    "id": "frWNqKtQRg1H",
    "outputId": "548c62cc-6737-463c-c6aa-f47e33e61cd0"
   },
   "outputs": [
    {
     "name": "stdin",
     "output_type": "stream",
     "text": [
      " Настя\n"
     ]
    },
    {
     "name": "stdout",
     "output_type": "stream",
     "text": [
      "Настя, Ваша пицца готова!\n"
     ]
    }
   ],
   "source": [
    "name = input()\n",
    "print(f'{name}, Ваша пицца готова!')"
   ]
  },
  {
   "cell_type": "markdown",
   "metadata": {
    "id": "MO78tXXx6wlt"
   },
   "source": [
    "## 2. Признание\n",
    "\n",
    "Решительный Владимир пообещал своей возлюбленной Лиле написать слово `“ЛЮБ”` 1000 раз. Помогите ему, написав программу, которая выведет на экран строчку `“ЛЮБ”` нужное количество раз.\n",
    "\n",
    "#### ФОРМАТ ВВОДА: \n",
    "\n",
    "* Целое положительное число N — количество повторений\n",
    "\n",
    "#### ФОРМАТ ВЫВОДА:\n",
    "* Строка, ответ на задачу"
   ]
  },
  {
   "cell_type": "markdown",
   "metadata": {
    "id": "5lZsEQOn6w3d"
   },
   "source": [
    "#### Шаг 1"
   ]
  },
  {
   "cell_type": "markdown",
   "metadata": {
    "id": "wCYpNEEE6xf9"
   },
   "source": [
    "Спрашиваем у пользователя число. Поскольку мы должны получить целое число, чтобы дальше на него умножать, <br> то передаем функцию `input()` аргументом в функцию `int()` — `int(input())`."
   ]
  },
  {
   "cell_type": "code",
   "execution_count": null,
   "metadata": {
    "colab": {
     "base_uri": "https://localhost:8080/"
    },
    "id": "dxX_V7ga6xPG",
    "outputId": "1226a125-9b9c-4cea-ccbe-1cfd430715fe"
   },
   "outputs": [
    {
     "name": "stdout",
     "output_type": "stream",
     "text": [
      "5\n"
     ]
    }
   ],
   "source": [
    "N = int(input())"
   ]
  },
  {
   "cell_type": "markdown",
   "metadata": {
    "id": "aZ8SbkHO6xp1"
   },
   "source": [
    "#### Шаг 2"
   ]
  },
  {
   "cell_type": "markdown",
   "metadata": {
    "id": "ScYauPB_6x-v"
   },
   "source": [
    "Умножаем строку `'ЛЮБ'` на переменную **N**, и таким образом получаем строку `'ЛЮБ'`, написанную **N** раз. "
   ]
  },
  {
   "cell_type": "code",
   "execution_count": null,
   "metadata": {
    "colab": {
     "base_uri": "https://localhost:8080/"
    },
    "id": "bybhF1_36x0y",
    "outputId": "644a5244-7c74-4ca4-e72c-31340bc46b3c"
   },
   "outputs": [
    {
     "name": "stdout",
     "output_type": "stream",
     "text": [
      "ЛЮБЛЮБЛЮБЛЮБЛЮБ\n"
     ]
    }
   ],
   "source": [
    "print('ЛЮБ'* N)"
   ]
  },
  {
   "cell_type": "markdown",
   "metadata": {
    "id": "ghLPiDagRF1X"
   },
   "source": [
    "#### Итоговое решение"
   ]
  },
  {
   "cell_type": "code",
   "execution_count": null,
   "metadata": {
    "id": "oIn9-4FGRAWa"
   },
   "outputs": [],
   "source": [
    "N = int(input())\n",
    "print('ЛЮБ'* N)"
   ]
  },
  {
   "cell_type": "markdown",
   "metadata": {
    "id": "bvRYtlS59OFT"
   },
   "source": [
    "## 3. Приключения Алисы\n",
    "Алиса, попав в Зазеркалье, увидела, что все слова написаны задом наперёд: вместо слова `“МИР”` написано `“РИМ”`, вместо `“ГОД”` — `“ДОГ”`. Помогите ей прочитать написанные тексты, написав программу, которая будет выводить слова в обратном порядке. Известно, что в строке, с которой работает программа, ровно 3 буквы.\n",
    "\n",
    "#### ФОРМАТ ВВОДА:\n",
    "* Строка из трёх символов\n",
    "\n",
    "ФОРМАТ ВЫВОДА:\n",
    "* Строка из трёх символов"
   ]
  },
  {
   "cell_type": "markdown",
   "metadata": {
    "id": "VnYuPL6R9OO-"
   },
   "source": [
    "#### Шаг 1"
   ]
  },
  {
   "cell_type": "markdown",
   "metadata": {
    "id": "NfAZORBm9Oew"
   },
   "source": [
    "Сначала мы должны ввести слово, которое хотим «перевернуть», воспользуемся известной нам функцией `input()`. "
   ]
  },
  {
   "cell_type": "code",
   "execution_count": null,
   "metadata": {
    "colab": {
     "base_uri": "https://localhost:8080/"
    },
    "id": "ya7MUwC69OXU",
    "outputId": "d8134ad5-7f81-450e-def9-4e03bb5974da"
   },
   "outputs": [
    {
     "name": "stdout",
     "output_type": "stream",
     "text": [
      "МИР\n"
     ]
    }
   ],
   "source": [
    "s = input()"
   ]
  },
  {
   "cell_type": "markdown",
   "metadata": {
    "id": "Ea4Cqzl49Oi0"
   },
   "source": [
    "#### Шаг 2"
   ]
  },
  {
   "cell_type": "markdown",
   "metadata": {
    "id": "fdWAV4R-HwhQ"
   },
   "source": [
    "Затем мы выводим поочередно буквы в обратном порядке. <br> Воспользуемся обратной индексацией, где `[-1]` — последний символ, `[-2]` — предпоследний, и так далее. <br>\n",
    "Поставим аргумент `sep=''`, что означает отсутствие разделителя между буквами, ведь мы хотим получить слитно написанное слово. "
   ]
  },
  {
   "cell_type": "code",
   "execution_count": null,
   "metadata": {
    "colab": {
     "base_uri": "https://localhost:8080/"
    },
    "id": "zFTsfERG9OqM",
    "outputId": "6a9baaff-8d4d-4029-a350-06f2ca2f3b98"
   },
   "outputs": [
    {
     "name": "stdout",
     "output_type": "stream",
     "text": [
      "РИМ\n"
     ]
    }
   ],
   "source": [
    "print(s[-1], s[-2], s[-3], sep='')"
   ]
  },
  {
   "cell_type": "markdown",
   "metadata": {
    "id": "kTfggtItR2Yd"
   },
   "source": [
    "#### Итоговое решение"
   ]
  },
  {
   "cell_type": "code",
   "execution_count": null,
   "metadata": {
    "colab": {
     "base_uri": "https://localhost:8080/"
    },
    "id": "EeV5N9WrR24g",
    "outputId": "b622905c-181b-4087-de61-f2609f48560f"
   },
   "outputs": [
    {
     "name": "stdout",
     "output_type": "stream",
     "text": [
      "РИМ\n",
      "МИР\n"
     ]
    }
   ],
   "source": [
    "s = input()\n",
    "print(s[-1], s[-2], s[-3], sep='')"
   ]
  },
  {
   "cell_type": "markdown",
   "metadata": {
    "id": "iyl3mcxf-X89"
   },
   "source": [
    "Как вариант, вместо изменения параметра разделителя можно воспользоваться оператором `+`, чтобы склеить строки. А индексация может быть и «положительная». Таким образом, первая буква будет с индексом 0, вторая – с индексом 1 и последняя — с индексом 2."
   ]
  },
  {
   "cell_type": "code",
   "execution_count": null,
   "metadata": {
    "colab": {
     "base_uri": "https://localhost:8080/"
    },
    "id": "NP9Sij9N-ofl",
    "outputId": "e80cb74a-399c-4e91-de4a-9c83f8f0b468"
   },
   "outputs": [
    {
     "name": "stdout",
     "output_type": "stream",
     "text": [
      "МИР\n",
      "РИМ\n"
     ]
    }
   ],
   "source": [
    "s = input()\n",
    "print(s[2] + s[1] + s[0])"
   ]
  },
  {
   "cell_type": "markdown",
   "metadata": {
    "id": "iO5GAiJdJUAJ"
   },
   "source": [
    "## 4. Время домашней работы\n",
    "\n",
    "Усидчивый Матвей планирует заниматься ровно N часов. Помогите ему понять, во сколько он закончит заниматься сегодня, если на электронных часах сейчас A:B минут?\n",
    "\n",
    "#### ФОРМАТ ВВОДА: \n",
    "* Целое число N — сколько часов планирует заниматься Матвей, N >= 0\n",
    "* Строка вида ЧЧ:ММ, указывающая, который сейчас час.\n",
    "* Известно, что Матвей закончит заниматься в тот же день, когда начнёт.\n",
    "\n",
    "#### ФОРМАТ ВЫВОДА: \n",
    "* Строка вида \"ЧЧ:ММ\""
   ]
  },
  {
   "cell_type": "markdown",
   "metadata": {
    "id": "phq-KRwUJUD0"
   },
   "source": [
    "#### Шаг 1"
   ]
  },
  {
   "cell_type": "markdown",
   "metadata": {
    "id": "hs2o2lOOJUGu"
   },
   "source": [
    "Для начала мы вводим, сколько часов Андрей будет заниматься (**n**) и какое сейчас время. Обратим внимание, что число часов мы переводим в целое число — `int()`. Время же мы оставляем в виде строки, поскольку оно имеет формат `hh:mm`."
   ]
  },
  {
   "cell_type": "code",
   "execution_count": null,
   "metadata": {
    "colab": {
     "base_uri": "https://localhost:8080/"
    },
    "id": "G3sjgtIDNZdO",
    "outputId": "054273a4-aaff-4900-c819-051c6b01a49f"
   },
   "outputs": [
    {
     "name": "stdout",
     "output_type": "stream",
     "text": [
      "5\n",
      "13:20\n"
     ]
    }
   ],
   "source": [
    "n = int(input())\n",
    "t = input()"
   ]
  },
  {
   "cell_type": "markdown",
   "metadata": {
    "id": "vZMiL3AkJUJN"
   },
   "source": [
    "#### Шаг 2"
   ]
  },
  {
   "cell_type": "markdown",
   "metadata": {
    "id": "lbyQ19s8JULp"
   },
   "source": [
    "Дальше мы переводим по отдельности часы и минуты в формат целых чисел. <br>\n",
    "Для того, чтобы получить часы, мы берем первый и второй символ (элементы с индексами `[0]` и `[1]`), «склеиваем» их и переводим в формат числа с помощью `int()`. <br>\n",
    "Чтобы получить минуты, делаем то же самое, только берем элементы с индексами `[3]` и `[4]`. Расчетов с этой переменной мы делать не будем, в целое число ее можно не переводить."
   ]
  },
  {
   "cell_type": "code",
   "execution_count": null,
   "metadata": {
    "id": "8YYVJADEXdbm"
   },
   "outputs": [],
   "source": [
    "hh = int(t[0] + t[1]) # превращаем в целое число — для расчетов\n",
    "mm = t[3] + t[4] # оставляем строкой — считать ничего не будем"
   ]
  },
  {
   "cell_type": "markdown",
   "metadata": {
    "id": "sp6Ws91xXbay"
   },
   "source": [
    "#### Шаг 3"
   ]
  },
  {
   "cell_type": "markdown",
   "metadata": {
    "id": "uSPqaq8KYdCk"
   },
   "source": [
    "В конце мы должны вывести время, в которое Андрей закончит заниматься. Прибавляем к текущему времени запланированное число часов (`hh + n`), и подставляем полученное значение в нужный формат в **f-строку**. Также подставляем туда минуты без изменений. "
   ]
  },
  {
   "cell_type": "code",
   "execution_count": null,
   "metadata": {
    "colab": {
     "base_uri": "https://localhost:8080/"
    },
    "id": "7yi4yE9mYD3-",
    "outputId": "94ee2124-2671-4fcd-b914-41a67e0023b4"
   },
   "outputs": [
    {
     "name": "stdout",
     "output_type": "stream",
     "text": [
      "18:20\n"
     ]
    }
   ],
   "source": [
    "print(f'{hh + n}:{mm}')"
   ]
  },
  {
   "cell_type": "markdown",
   "metadata": {
    "id": "qT-X48h6SRt0"
   },
   "source": [
    "#### Итоговое решение\n",
    "\n",
    "## NB добавлено уточнение для решения в случае лидирующего нуля в минутах"
   ]
  },
  {
   "cell_type": "code",
   "execution_count": null,
   "metadata": {
    "colab": {
     "base_uri": "https://localhost:8080/"
    },
    "id": "nVu-us_YSR4i",
    "outputId": "ac1edaa2-77de-4be0-85fb-acef992f725a"
   },
   "outputs": [
    {
     "name": "stdout",
     "output_type": "stream",
     "text": [
      "5\n",
      "13:20\n",
      "18:20\n"
     ]
    }
   ],
   "source": [
    "n = int(input())\n",
    "t = input()\n",
    "hh = int(t[0] + t[1])\n",
    "mm = t[3] + t[4]\n",
    "print(f'{hh+n}:{m//10}{m%10}')"
   ]
  },
  {
   "cell_type": "markdown",
   "metadata": {
    "id": "7_9YkkUDcfEi"
   },
   "source": [
    "## 5. Налоги\n",
    "\n",
    "Вася открыл собственное кафе и сейчас заполняет налоговую декларацию по упрощённой системе налогообложения “доходы минус расходы”.\n",
    "\n",
    "Посчитайте сумму налогов за год, зная доходы кафе, расходы кафе и процент налоговой ставки, принятой в Васином регионе.\n",
    "\n",
    "Например, если кафе получило доходы в размере 2500000 рублей и понесло расходы на 1000000 рублей, то налогом облагается 1500000 рублей. При налоговой ставке 10% заплатить будет нужно 150000 рублей.\n",
    "\n",
    "#### ФОРМАТ ВВОДА:\n",
    "* Целое положительное число — размер доходов.\n",
    "* Целое положительное число — размер расходов.\n",
    "* Целое положительное число — процентная ставка (от 6 до 15 включительно).\n",
    "\n",
    "#### ФОРМАТ ВЫВОДА: \n",
    "* Целое положительное число — размер налога."
   ]
  },
  {
   "cell_type": "markdown",
   "metadata": {
    "id": "AQK4K03LcfH4"
   },
   "source": [
    "#### Шаг 1"
   ]
  },
  {
   "cell_type": "markdown",
   "metadata": {
    "id": "k3EZGM7KcfNR"
   },
   "source": [
    "Считаем с клавиатуры доходы кафе, расходы и налоговую ставку в процентах с помощь конструкции `int(input())`. <br> \n",
    "Cразу же переведем налог в формат десятичной дроби, разделив целое число процентов на 100.\n",
    "\n",
    "Почему мы так делаем: чтобы перевести проценты в долю (в вид десятичной дроби), мы должны разделить нашу процентную ставку на 100%, тогда получим дробь (например, 0.1, 0.13, 0.25). А умножив число на эту дробь, мы как раз и получим X процентов от числа. Это эквивалентно делению на 100, то есть нахождению одного процента, и потом умножению на нужное число процентов.\n",
    "\n",
    "*Пример.* Нам нужно найти 15% от 1200 рублей. Для этого мы 1200 умножаем на 0.15 и получаем 180. Значит, 180 рублей — это 15% от 1200. "
   ]
  },
  {
   "cell_type": "code",
   "execution_count": 3,
   "metadata": {
    "colab": {
     "base_uri": "https://localhost:8080/"
    },
    "id": "aZvjxUURd9eR",
    "outputId": "585cd79e-fcd3-40bd-a022-b98a990253ea"
   },
   "outputs": [
    {
     "name": "stdin",
     "output_type": "stream",
     "text": [
      "Доходы кафе =  250000\n",
      "Расходы кафе =  100000\n",
      "Процентная ставка =  15\n"
     ]
    },
    {
     "name": "stdout",
     "output_type": "stream",
     "text": [
      "Процентная ставка налога после перевода в дробный вид: 0.15\n"
     ]
    }
   ],
   "source": [
    "revenue = int(input('Доходы кафе = '))\n",
    "costs = int(input('Расходы кафе = '))\n",
    "tax = int(input('Процентная ставка = ')) / 100\n",
    "print('Процентная ставка налога после перевода в дробный вид:', tax)"
   ]
  },
  {
   "cell_type": "markdown",
   "metadata": {
    "id": "sN8HJN3Ed3Ts"
   },
   "source": [
    "#### Шаг 2"
   ]
  },
  {
   "cell_type": "markdown",
   "metadata": {
    "id": "xyI5T2Lbd4WK"
   },
   "source": [
    "Посчитаем разницу между доходами и расходами. Затем умножим ее на процентную ставку в формате дроби, и получим результат — величину налоговых отчислений. "
   ]
  },
  {
   "cell_type": "code",
   "execution_count": 4,
   "metadata": {
    "colab": {
     "base_uri": "https://localhost:8080/"
    },
    "id": "IKrcoMJLd37X",
    "outputId": "2978cbab-9dc0-4a4c-c5f1-a117ce269950"
   },
   "outputs": [
    {
     "name": "stdout",
     "output_type": "stream",
     "text": [
      "22500.0\n"
     ]
    }
   ],
   "source": [
    "print((revenue - costs) * tax)"
   ]
  },
  {
   "cell_type": "markdown",
   "metadata": {},
   "source": [
    "Ответ нам нужен в целых числах – перед выводом превратим дробь в integer."
   ]
  },
  {
   "cell_type": "code",
   "execution_count": 5,
   "metadata": {},
   "outputs": [
    {
     "name": "stdout",
     "output_type": "stream",
     "text": [
      "22500\n"
     ]
    }
   ],
   "source": [
    "print(int((revenue - costs) * tax))"
   ]
  },
  {
   "cell_type": "markdown",
   "metadata": {
    "id": "nE_hDz-XS7LX"
   },
   "source": [
    "#### Итоговое решение"
   ]
  },
  {
   "cell_type": "code",
   "execution_count": 10,
   "metadata": {
    "colab": {
     "base_uri": "https://localhost:8080/"
    },
    "id": "hV6j9N8SS7bt",
    "outputId": "1709d42e-4a1e-45cb-980a-f1f0cfec0adf"
   },
   "outputs": [
    {
     "name": "stdin",
     "output_type": "stream",
     "text": [
      " 25000\n",
      " 10000\n",
      " 15\n"
     ]
    },
    {
     "name": "stdout",
     "output_type": "stream",
     "text": [
      "2250\n"
     ]
    }
   ],
   "source": [
    "revenue = int(input())\n",
    "costs = int(input())\n",
    "tax = int(input()) / 100\n",
    "print(int((revenue - costs) * tax))"
   ]
  }
 ],
 "metadata": {
  "kernelspec": {
   "display_name": "Python 3",
   "language": "python",
   "name": "python3"
  },
  "language_info": {
   "codemirror_mode": {
    "name": "ipython",
    "version": 3
   },
   "file_extension": ".py",
   "mimetype": "text/x-python",
   "name": "python",
   "nbconvert_exporter": "python",
   "pygments_lexer": "ipython3",
   "version": "3.8.5"
  }
 },
 "nbformat": 4,
 "nbformat_minor": 4
}
