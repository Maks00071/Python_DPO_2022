{
 "cells": [
  {
   "cell_type": "markdown",
   "id": "4004a2bf",
   "metadata": {},
   "source": [
    "# Code style\n",
    "## Heading 2\n",
    "\n",
    "**Text**\n",
    "\n",
    "*italic*\n",
    "\n",
    "- point 1\n",
    "\n",
    "- point 2\n",
    "\n",
    "$$c^2 = a^2 + b^2$$"
   ]
  },
  {
   "cell_type": "code",
   "execution_count": 13,
   "id": "94c6f7e8",
   "metadata": {},
   "outputs": [
    {
     "name": "stdout",
     "output_type": "stream",
     "text": [
      "Hello, world!\n",
      "hello, world!\n"
     ]
    }
   ],
   "source": [
    "# In - input\n",
    "# В - ввод\n",
    "\n",
    "# print the string\n",
    "print('Hello, world!')\n",
    "\n",
    "print('hello, world!')"
   ]
  },
  {
   "cell_type": "code",
   "execution_count": 8,
   "id": "1b56ea9b",
   "metadata": {},
   "outputs": [
    {
     "data": {
      "text/plain": [
       "'Hello, world!'"
      ]
     },
     "execution_count": 8,
     "metadata": {},
     "output_type": "execute_result"
    }
   ],
   "source": [
    "'Hello, world!'\n",
    "# Out - output\n",
    "# ВВ - вывод"
   ]
  },
  {
   "cell_type": "code",
   "execution_count": 9,
   "id": "de320377",
   "metadata": {},
   "outputs": [
    {
     "data": {
      "text/plain": [
       "'\\n\\n\\n\\ndsfhsfdhafhgl\\n\\nadfakgdagn\\n\\n\\n'"
      ]
     },
     "execution_count": 9,
     "metadata": {},
     "output_type": "execute_result"
    }
   ],
   "source": [
    "'''\n",
    "\n",
    "\n",
    "\n",
    "dsfhsfdhafhgl\n",
    "\n",
    "adfakgdagn\n",
    "\n",
    "\n",
    "'''"
   ]
  },
  {
   "cell_type": "code",
   "execution_count": 10,
   "id": "a776b1b2",
   "metadata": {},
   "outputs": [],
   "source": [
    "# comment\n",
    "\n",
    "# ctrl/cmd + S save - notebook\n",
    "\n",
    "# shift + enter - run the cell\n",
    "\n",
    "# B - below\n",
    "\n",
    "# A - above\n",
    "\n",
    "# X - delete\n",
    "\n",
    "# Z - undo last delete\n",
    "\n",
    "# M - markdown"
   ]
  },
  {
   "cell_type": "code",
   "execution_count": 18,
   "id": "1e6ce10b",
   "metadata": {},
   "outputs": [
    {
     "name": "stdout",
     "output_type": "stream",
     "text": [
      "Hello,World!\n"
     ]
    }
   ],
   "source": [
    "print(\"Hello,\", \"World!\", sep='') #separator - разделитель (параметр\n",
    "                                    # функции print())"
   ]
  },
  {
   "cell_type": "code",
   "execution_count": 17,
   "id": "406f660a",
   "metadata": {},
   "outputs": [
    {
     "name": "stdout",
     "output_type": "stream",
     "text": [
      "Hello, World!\n"
     ]
    }
   ],
   "source": [
    "print(\"Hello,\", \"World!\")"
   ]
  },
  {
   "cell_type": "code",
   "execution_count": 23,
   "id": "153a7880",
   "metadata": {},
   "outputs": [
    {
     "name": "stdout",
     "output_type": "stream",
     "text": [
      "Аня\n",
      "Петя\n",
      "Привет, Петя 4\n"
     ]
    }
   ],
   "source": [
    "name = 'Аня' # переменная - именованная область памяти, \n",
    "            # в которой присвоено некоторое значение\n",
    "print(name)\n",
    "\n",
    "name = 'Петя' # оператор = присваивает значение\n",
    "print(name)\n",
    "print('Привет,', name, 4) #можно вводить строки, числа и др. типы данных \n",
    "                        #и переменные внутри print"
   ]
  },
  {
   "cell_type": "code",
   "execution_count": 24,
   "id": "c2e94049",
   "metadata": {},
   "outputs": [
    {
     "name": "stdout",
     "output_type": "stream",
     "text": [
      "Hello, world!\n"
     ]
    }
   ],
   "source": [
    "name = input() #вводит значение переменной с клавиатуры и сохраняет \n",
    "            # в объявленную переменную"
   ]
  },
  {
   "cell_type": "code",
   "execution_count": 25,
   "id": "5e29bcc8",
   "metadata": {},
   "outputs": [
    {
     "name": "stdout",
     "output_type": "stream",
     "text": [
      "Hello,World!\n"
     ]
    },
    {
     "data": {
      "text/plain": [
       "'Hello,World!'"
      ]
     },
     "execution_count": 25,
     "metadata": {},
     "output_type": "execute_result"
    }
   ],
   "source": [
    "input()"
   ]
  },
  {
   "cell_type": "code",
   "execution_count": 26,
   "id": "49bf6109",
   "metadata": {},
   "outputs": [
    {
     "data": {
      "text/plain": [
       "str"
      ]
     },
     "execution_count": 26,
     "metadata": {},
     "output_type": "execute_result"
    }
   ],
   "source": [
    "text = 'Текст'\n",
    "type(text) #string - строка (тип данных)"
   ]
  },
  {
   "cell_type": "code",
   "execution_count": 33,
   "id": "6e81c687",
   "metadata": {},
   "outputs": [
    {
     "data": {
      "text/plain": [
       "int"
      ]
     },
     "execution_count": 33,
     "metadata": {},
     "output_type": "execute_result"
    }
   ],
   "source": [
    "type(4 + 4) # int - integer (целое число)"
   ]
  },
  {
   "cell_type": "code",
   "execution_count": 28,
   "id": "6d7b8fe5",
   "metadata": {},
   "outputs": [
    {
     "data": {
      "text/plain": [
       "2"
      ]
     },
     "execution_count": 28,
     "metadata": {},
     "output_type": "execute_result"
    }
   ],
   "source": [
    "4 - 2"
   ]
  },
  {
   "cell_type": "code",
   "execution_count": 34,
   "id": "93e19f4d",
   "metadata": {},
   "outputs": [
    {
     "name": "stdout",
     "output_type": "stream",
     "text": [
      "2.0\n"
     ]
    },
    {
     "data": {
      "text/plain": [
       "float"
      ]
     },
     "execution_count": 34,
     "metadata": {},
     "output_type": "execute_result"
    }
   ],
   "source": [
    "print(4 / 2) # float - вещественное число, floating number \n",
    "# (число с плавающей точке)\n",
    "type(4 / 2)"
   ]
  },
  {
   "cell_type": "code",
   "execution_count": 31,
   "id": "722af0dc",
   "metadata": {},
   "outputs": [
    {
     "name": "stdout",
     "output_type": "stream",
     "text": [
      "24\n",
      "1.3333333333333333\n"
     ]
    }
   ],
   "source": [
    "print(4 * 6)\n",
    "print(4 / 3)"
   ]
  },
  {
   "cell_type": "code",
   "execution_count": 39,
   "id": "58cc1540",
   "metadata": {},
   "outputs": [
    {
     "name": "stdout",
     "output_type": "stream",
     "text": [
      "1.3333333333333333\n",
      "2\n",
      "1\n",
      "2\n"
     ]
    }
   ],
   "source": [
    "4 * 6\n",
    "\n",
    "print(4 / 3) #вещественное деление\n",
    "print(5 // 2) #целочисленное деление\n",
    "print(5 % 2) #остаток от деления\n",
    "\n",
    "print(11 % 3)"
   ]
  },
  {
   "cell_type": "code",
   "execution_count": 35,
   "id": "b7ddc012",
   "metadata": {},
   "outputs": [
    {
     "data": {
      "text/plain": [
       "4"
      ]
     },
     "execution_count": 35,
     "metadata": {},
     "output_type": "execute_result"
    }
   ],
   "source": [
    "2 ** 2"
   ]
  },
  {
   "cell_type": "code",
   "execution_count": 40,
   "id": "1678f713",
   "metadata": {},
   "outputs": [
    {
     "data": {
      "text/plain": [
       "0.5"
      ]
     },
     "execution_count": 40,
     "metadata": {},
     "output_type": "execute_result"
    }
   ],
   "source": [
    "0.5 "
   ]
  },
  {
   "cell_type": "code",
   "execution_count": 41,
   "id": "4de8fb77",
   "metadata": {},
   "outputs": [
    {
     "data": {
      "text/plain": [
       "(0, 5)"
      ]
     },
     "execution_count": 41,
     "metadata": {},
     "output_type": "execute_result"
    }
   ],
   "source": [
    "0,5"
   ]
  },
  {
   "cell_type": "code",
   "execution_count": 42,
   "id": "4e9f59cc",
   "metadata": {},
   "outputs": [
    {
     "ename": "ZeroDivisionError",
     "evalue": "division by zero",
     "output_type": "error",
     "traceback": [
      "\u001b[0;31m---------------------------------------------------------------------------\u001b[0m",
      "\u001b[0;31mZeroDivisionError\u001b[0m                         Traceback (most recent call last)",
      "\u001b[0;32m<ipython-input-42-e1965806ec03>\u001b[0m in \u001b[0;36m<module>\u001b[0;34m\u001b[0m\n\u001b[0;32m----> 1\u001b[0;31m \u001b[0;36m3\u001b[0m \u001b[0;34m/\u001b[0m \u001b[0;36m0\u001b[0m\u001b[0;34m\u001b[0m\u001b[0;34m\u001b[0m\u001b[0m\n\u001b[0m",
      "\u001b[0;31mZeroDivisionError\u001b[0m: division by zero"
     ]
    }
   ],
   "source": [
    "3 / 0"
   ]
  },
  {
   "cell_type": "code",
   "execution_count": 44,
   "id": "c4e56f51",
   "metadata": {},
   "outputs": [
    {
     "data": {
      "text/plain": [
       "'hello   world'"
      ]
     },
     "execution_count": 44,
     "metadata": {},
     "output_type": "execute_result"
    }
   ],
   "source": [
    "\"hello\" + '   world'"
   ]
  },
  {
   "cell_type": "code",
   "execution_count": 45,
   "id": "cb310b33",
   "metadata": {},
   "outputs": [
    {
     "data": {
      "text/plain": [
       "'hellohellohello'"
      ]
     },
     "execution_count": 45,
     "metadata": {},
     "output_type": "execute_result"
    }
   ],
   "source": [
    "\"hello\" * 3"
   ]
  },
  {
   "cell_type": "code",
   "execution_count": 52,
   "id": "caef0b8d",
   "metadata": {},
   "outputs": [
    {
     "name": "stdout",
     "output_type": "stream",
     "text": [
      "Длина строки: 13\n",
      "Hello, world!\n"
     ]
    }
   ],
   "source": [
    "print('Длина строки:', len(name)) #len - length\n",
    "print(name)"
   ]
  },
  {
   "cell_type": "code",
   "execution_count": 56,
   "id": "a627e8cc",
   "metadata": {},
   "outputs": [
    {
     "data": {
      "text/plain": [
       "'!'"
      ]
     },
     "execution_count": 56,
     "metadata": {},
     "output_type": "execute_result"
    }
   ],
   "source": [
    "name[len(name)-1]"
   ]
  },
  {
   "cell_type": "code",
   "execution_count": 51,
   "id": "314779e1",
   "metadata": {},
   "outputs": [
    {
     "data": {
      "text/plain": [
       "4"
      ]
     },
     "execution_count": 51,
     "metadata": {},
     "output_type": "execute_result"
    }
   ],
   "source": [
    "len('132 ')"
   ]
  },
  {
   "cell_type": "code",
   "execution_count": 53,
   "id": "a0ab6a58",
   "metadata": {},
   "outputs": [
    {
     "data": {
      "text/plain": [
       "'!'"
      ]
     },
     "execution_count": 53,
     "metadata": {},
     "output_type": "execute_result"
    }
   ],
   "source": [
    "'Hello, world!'[-1]"
   ]
  },
  {
   "cell_type": "code",
   "execution_count": 54,
   "id": "a40ac3c0",
   "metadata": {},
   "outputs": [
    {
     "data": {
      "text/plain": [
       "'d'"
      ]
     },
     "execution_count": 54,
     "metadata": {},
     "output_type": "execute_result"
    }
   ],
   "source": [
    "'Hello, world!'[-2]"
   ]
  },
  {
   "cell_type": "code",
   "execution_count": 57,
   "id": "753bc8df",
   "metadata": {},
   "outputs": [
    {
     "data": {
      "text/plain": [
       "-2"
      ]
     },
     "execution_count": 57,
     "metadata": {},
     "output_type": "execute_result"
    }
   ],
   "source": [
    "4 % -3"
   ]
  },
  {
   "cell_type": "code",
   "execution_count": 58,
   "id": "7c63634d",
   "metadata": {},
   "outputs": [
    {
     "data": {
      "text/plain": [
       "2.0"
      ]
     },
     "execution_count": 58,
     "metadata": {},
     "output_type": "execute_result"
    }
   ],
   "source": [
    "4 / 2"
   ]
  },
  {
   "cell_type": "code",
   "execution_count": 61,
   "id": "1e80ac41",
   "metadata": {},
   "outputs": [
    {
     "name": "stdout",
     "output_type": "stream",
     "text": [
      "[10]\n",
      "[10, 12]\n"
     ]
    }
   ],
   "source": [
    "a = [10]\n",
    "b = a\n",
    "b = a.copy()\n",
    "b.append(12)\n",
    "print(a)\n",
    "print(b)"
   ]
  },
  {
   "cell_type": "code",
   "execution_count": 62,
   "id": "b7796f38",
   "metadata": {},
   "outputs": [
    {
     "name": "stdout",
     "output_type": "stream",
     "text": [
      "[10, 12]\n",
      "[10, 12]\n"
     ]
    }
   ],
   "source": [
    "a = [10]\n",
    "b = a\n",
    "b = a\n",
    "b.append(12)\n",
    "print(a)\n",
    "print(b)"
   ]
  },
  {
   "cell_type": "code",
   "execution_count": 64,
   "id": "3d61cf2b",
   "metadata": {},
   "outputs": [
    {
     "name": "stdout",
     "output_type": "stream",
     "text": [
      "Введите Ваше имя: Максим\n"
     ]
    }
   ],
   "source": [
    "name = input('Введите Ваше имя: ')"
   ]
  },
  {
   "cell_type": "code",
   "execution_count": 65,
   "id": "18305d46",
   "metadata": {},
   "outputs": [
    {
     "name": "stdout",
     "output_type": "stream",
     "text": [
      "Максим\n"
     ]
    }
   ],
   "source": [
    "print(name)"
   ]
  },
  {
   "cell_type": "code",
   "execution_count": 67,
   "id": "4872d4c1",
   "metadata": {},
   "outputs": [
    {
     "name": "stdout",
     "output_type": "stream",
     "text": [
      "Привет, Максим\n"
     ]
    }
   ],
   "source": [
    "print('Привет,', name)"
   ]
  },
  {
   "cell_type": "code",
   "execution_count": 68,
   "id": "017ebd3e",
   "metadata": {
    "scrolled": true
   },
   "outputs": [
    {
     "name": "stdout",
     "output_type": "stream",
     "text": [
      "Привет, Максим\n"
     ]
    }
   ],
   "source": [
    "print(f'Привет, {name}') #f-string = красивый вывод строки с переменными\n",
    "                                # в одном аргументе"
   ]
  },
  {
   "cell_type": "code",
   "execution_count": 2,
   "id": "b35124db",
   "metadata": {},
   "outputs": [
    {
     "data": {
      "text/plain": [
       "'123'"
      ]
     },
     "execution_count": 2,
     "metadata": {},
     "output_type": "execute_result"
    }
   ],
   "source": [
    "str(123)"
   ]
  },
  {
   "cell_type": "code",
   "execution_count": 4,
   "id": "79637b7c",
   "metadata": {},
   "outputs": [
    {
     "data": {
      "text/plain": [
       "123"
      ]
     },
     "execution_count": 4,
     "metadata": {},
     "output_type": "execute_result"
    }
   ],
   "source": [
    "int('123  ')\n",
    "int"
   ]
  },
  {
   "cell_type": "code",
   "execution_count": null,
   "id": "5258e790",
   "metadata": {},
   "outputs": [],
   "source": [
    "number = int(input())\n",
    "\n",
    "#int(), float(), str()"
   ]
  }
 ],
 "metadata": {
  "kernelspec": {
   "display_name": "Python 3",
   "language": "python",
   "name": "python3"
  },
  "language_info": {
   "codemirror_mode": {
    "name": "ipython",
    "version": 3
   },
   "file_extension": ".py",
   "mimetype": "text/x-python",
   "name": "python",
   "nbconvert_exporter": "python",
   "pygments_lexer": "ipython3",
   "version": "3.8.5"
  }
 },
 "nbformat": 4,
 "nbformat_minor": 5
}
