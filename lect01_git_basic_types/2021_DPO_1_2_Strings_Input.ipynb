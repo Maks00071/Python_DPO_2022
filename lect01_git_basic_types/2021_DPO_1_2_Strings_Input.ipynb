{
 "cells": [
  {
   "cell_type": "markdown",
   "metadata": {},
   "source": [
    "Центр непрерывного образования\n",
    "\n",
    "# Программа «Python для автоматизации и анализа данных»\n",
    "\n",
    "Неделя 1 - 1\n",
    "\n",
    "*Татьяна Рогович, НИУ ВШЭ*  \n",
    "*Алла Тамбовцева, НИУ ВШЭ*\n",
    "\n",
    "## Строки. Ввод и форматирование."
   ]
  },
  {
   "cell_type": "markdown",
   "metadata": {},
   "source": [
    "**ТЕКСТ (СТРОКИ) (STR, STRING):** любой текст внутри одинарных или двойных кавычек. \n",
    "Важно: целое число в кавычках - это тоже строка, не целое число."
   ]
  },
  {
   "cell_type": "code",
   "execution_count": 15,
   "metadata": {},
   "outputs": [],
   "source": [
    "x1 = 'a'\n",
    "x2 = \"x\"\n",
    "x3 = \"\"\"z z \n",
    "z\n",
    "z\n",
    "z\n",
    "zzz\n",
    "z\"\"\""
   ]
  },
  {
   "cell_type": "code",
   "execution_count": 16,
   "metadata": {},
   "outputs": [
    {
     "data": {
      "text/plain": [
       "'z z \\nz\\nz\\nz\\nzzz\\nz'"
      ]
     },
     "execution_count": 16,
     "metadata": {},
     "output_type": "execute_result"
    }
   ],
   "source": [
    "x3"
   ]
  },
  {
   "cell_type": "code",
   "execution_count": 21,
   "metadata": {},
   "outputs": [
    {
     "name": "stdout",
     "output_type": "stream",
     "text": [
      "<class 'str'>\n",
      "<class 'str'>\n",
      "<class 'str'>\n"
     ]
    }
   ],
   "source": [
    "x = 'text'\n",
    "print(type(x))\n",
    "print(type('Hello, world!'))\n",
    "print(type('2'))"
   ]
  },
  {
   "cell_type": "markdown",
   "metadata": {},
   "source": [
    "Если попробовать сложить число-строку и число-число, то получим ошибку."
   ]
  },
  {
   "cell_type": "code",
   "execution_count": 10,
   "metadata": {},
   "outputs": [
    {
     "ename": "TypeError",
     "evalue": "can only concatenate str (not \"int\") to str",
     "output_type": "error",
     "traceback": [
      "\u001b[0;31m---------------------------------------------------------------------------\u001b[0m",
      "\u001b[0;31mTypeError\u001b[0m                                 Traceback (most recent call last)",
      "\u001b[0;32m<ipython-input-10-81ac1f9e7aa0>\u001b[0m in \u001b[0;36m<module>\u001b[0;34m\u001b[0m\n\u001b[0;32m----> 1\u001b[0;31m \u001b[0mprint\u001b[0m\u001b[0;34m(\u001b[0m\u001b[0;34m'2'\u001b[0m \u001b[0;34m+\u001b[0m \u001b[0;36m3\u001b[0m\u001b[0;34m)\u001b[0m\u001b[0;34m\u001b[0m\u001b[0;34m\u001b[0m\u001b[0m\n\u001b[0m",
      "\u001b[0;31mTypeError\u001b[0m: can only concatenate str (not \"int\") to str"
     ]
    }
   ],
   "source": [
    "print('2' + 3)"
   ]
  },
  {
   "cell_type": "markdown",
   "metadata": {},
   "source": [
    "Еще раз обратим внимание на текст ошибки. *TypeError: must be str, not int* - TypeError означает, что данная команда не может быть исполнена из-за типа какой-то из переменных. В данном случаем видим, что что-то должно быть \"str\", когда оно типа \"int\". Давайте попробуем сделать 3 тоже строкой. Кстати, неважно какие вы используете кавычки (только если это не текст с кавычками внутри), главное, чтобы открывающая и закрывающая кавычки были одинаковые."
   ]
  },
  {
   "cell_type": "code",
   "execution_count": 24,
   "metadata": {},
   "outputs": [
    {
     "name": "stdout",
     "output_type": "stream",
     "text": [
      "23\n"
     ]
    }
   ],
   "source": [
    "print('2' + \"3\")"
   ]
  },
  {
   "cell_type": "markdown",
   "metadata": {},
   "source": [
    "Такая операция называется контакенация (слиянием) строк. "
   ]
  },
  {
   "cell_type": "markdown",
   "metadata": {},
   "source": [
    "Можно и умножить строку на число можно. Такая операция повторит нам строку заданное количество раз."
   ]
  },
  {
   "cell_type": "code",
   "execution_count": 1,
   "metadata": {},
   "outputs": [
    {
     "data": {
      "text/plain": [
       "'222'"
      ]
     },
     "execution_count": 1,
     "metadata": {},
     "output_type": "execute_result"
    }
   ],
   "source": [
    "'2' * 3"
   ]
  },
  {
   "cell_type": "markdown",
   "metadata": {},
   "source": [
    "Операции со строками тоже работают, если строки лежат внутри переменных."
   ]
  },
  {
   "cell_type": "code",
   "execution_count": 11,
   "metadata": {},
   "outputs": [
    {
     "name": "stdout",
     "output_type": "stream",
     "text": [
      "John Brown\n",
      "John Brown\n"
     ]
    }
   ],
   "source": [
    "word1 = 'John'\n",
    "word2 = ' Brown'\n",
    "print(word1 + word2)\n",
    "word3 = word1 + word2 # можем результат контакенации положить в новую переменную\n",
    "print(word3)"
   ]
  },
  {
   "cell_type": "markdown",
   "metadata": {},
   "source": [
    "В прошлом блокноте мы преобразовывали строки в числа с помощью функции int(). "
   ]
  },
  {
   "cell_type": "code",
   "execution_count": 12,
   "metadata": {},
   "outputs": [
    {
     "name": "stdout",
     "output_type": "stream",
     "text": [
      "2514\n"
     ]
    }
   ],
   "source": [
    "print(2 + int('2512')) # нет ошибки!"
   ]
  },
  {
   "cell_type": "code",
   "execution_count": 13,
   "metadata": {},
   "outputs": [
    {
     "ename": "ValueError",
     "evalue": "invalid literal for int() with base 10: '2512,0'",
     "output_type": "error",
     "traceback": [
      "\u001b[0;31m---------------------------------------------------------------------------\u001b[0m",
      "\u001b[0;31mValueError\u001b[0m                                Traceback (most recent call last)",
      "\u001b[0;32m<ipython-input-13-d4739b7872b3>\u001b[0m in \u001b[0;36m<module>\u001b[0;34m\u001b[0m\n\u001b[0;32m----> 1\u001b[0;31m \u001b[0mprint\u001b[0m\u001b[0;34m(\u001b[0m\u001b[0;36m2\u001b[0m \u001b[0;34m+\u001b[0m \u001b[0mint\u001b[0m\u001b[0;34m(\u001b[0m\u001b[0;34m'2512,0'\u001b[0m\u001b[0;34m)\u001b[0m\u001b[0;34m)\u001b[0m\u001b[0;34m\u001b[0m\u001b[0;34m\u001b[0m\u001b[0m\n\u001b[0m",
      "\u001b[0;31mValueError\u001b[0m: invalid literal for int() with base 10: '2512,0'"
     ]
    }
   ],
   "source": [
    "print(2 + int('2512,0'))"
   ]
  },
  {
   "cell_type": "code",
   "execution_count": 16,
   "metadata": {},
   "outputs": [
    {
     "data": {
      "text/plain": [
       "12.2"
      ]
     },
     "execution_count": 16,
     "metadata": {},
     "output_type": "execute_result"
    }
   ],
   "source": [
    "float('12,2'.replace(',', '.'))"
   ]
  },
  {
   "cell_type": "code",
   "execution_count": 15,
   "metadata": {},
   "outputs": [
    {
     "data": {
      "text/plain": [
       "12.2"
      ]
     },
     "execution_count": 15,
     "metadata": {},
     "output_type": "execute_result"
    }
   ],
   "source": [
    "float('12.2')"
   ]
  },
  {
   "cell_type": "markdown",
   "metadata": {},
   "source": [
    "С помощью функции str() мы можем превращать другие типы данных в строки."
   ]
  },
  {
   "cell_type": "code",
   "execution_count": 3,
   "metadata": {},
   "outputs": [
    {
     "name": "stdout",
     "output_type": "stream",
     "text": [
      "abs123True\n"
     ]
    }
   ],
   "source": [
    "print('abs' + str(123) + str(True))"
   ]
  },
  {
   "cell_type": "markdown",
   "metadata": {},
   "source": [
    "Обратите внимание: эти функции (str, int, float и другие) не меняют тип самих данных или переменных, в которых они хранятся. Если мы не перезапишем значение, то строка станет числом только в конкретной строчке команды, а ее тип не изменится."
   ]
  },
  {
   "cell_type": "code",
   "execution_count": 38,
   "metadata": {},
   "outputs": [
    {
     "name": "stdout",
     "output_type": "stream",
     "text": [
      "<class 'str'>\n",
      "2342125\n",
      "<class 'str'>\n"
     ]
    }
   ],
   "source": [
    "a = '2342123'\n",
    "print(type(a))\n",
    "print(2 + int(a))\n",
    "print(type(a))"
   ]
  },
  {
   "cell_type": "code",
   "execution_count": 39,
   "metadata": {},
   "outputs": [
    {
     "name": "stdout",
     "output_type": "stream",
     "text": [
      "<class 'int'>\n"
     ]
    }
   ],
   "source": [
    "a = int(a) # перезаписываем значение переменной\n",
    "print(type(a)) # теперь изменился и тип"
   ]
  },
  {
   "cell_type": "markdown",
   "metadata": {},
   "source": [
    "# Ввод данных. input()"
   ]
  },
  {
   "cell_type": "markdown",
   "metadata": {},
   "source": [
    "Познакомимся с функцией input() - ввод. Это функция позволяет нам просить\n",
    "пользователя что-нибудь ввести или принять на ввод какие-то данные."
   ]
  },
  {
   "cell_type": "code",
   "execution_count": 17,
   "metadata": {},
   "outputs": [
    {
     "name": "stdout",
     "output_type": "stream",
     "text": [
      "Как вас зовут?12\n",
      "12\n"
     ]
    }
   ],
   "source": [
    "x = input('Как вас зовут?')\n",
    "print(x)"
   ]
  },
  {
   "cell_type": "markdown",
   "metadata": {},
   "source": [
    "'Как вас зовут?' - аргумент функции input(), который будет отображаться в строке ввода. Он необязателен, но он может быть полезен для вас (особенно, если в задаче требуется ввести больше одной строки данных и нужно не запутаться).\n",
    "\n",
    "Обратите внимание, что функция  input() все сохраняет в строковом формате данных. Но мы можем сделать из\n",
    "числа-строки число-число с помощью функции int(). Введите \"1\" в обоих случаях и сравните результат."
   ]
  },
  {
   "cell_type": "code",
   "execution_count": 6,
   "metadata": {},
   "outputs": [
    {
     "name": "stdout",
     "output_type": "stream",
     "text": [
      "<class 'str'>\n",
      "<class 'int'>\n"
     ]
    }
   ],
   "source": [
    "print(type(input()))\n",
    "print(type(int(input())))"
   ]
  },
  {
   "cell_type": "markdown",
   "metadata": {},
   "source": [
    "Нужно следить за тем, какие данные вы считываете и менять их при необходимости. Сравните два примере ниже."
   ]
  },
  {
   "cell_type": "code",
   "execution_count": 17,
   "metadata": {},
   "outputs": [
    {
     "name": "stdout",
     "output_type": "stream",
     "text": [
      "Input x value: 12\n",
      "Input y value: 56\n",
      "1256\n"
     ]
    }
   ],
   "source": [
    "x = input('Input x value: ')\n",
    "y = input('Input y value: ')\n",
    "print(x + y) # произошла склейка строк, по умолчанию input() сохраняет значение типа str"
   ]
  },
  {
   "cell_type": "code",
   "execution_count": 3,
   "metadata": {},
   "outputs": [
    {
     "name": "stdout",
     "output_type": "stream",
     "text": [
      "5\n"
     ]
    }
   ],
   "source": [
    "x = int(input('Input x value: '))\n",
    "y = int(input('Input y value: '))\n",
    "print(x + y) # вот теперь произошло сложение чисел"
   ]
  },
  {
   "cell_type": "markdown",
   "metadata": {},
   "source": [
    "## (∩｀-´)⊃━☆ﾟ.*･｡ﾟ Задача\n",
    "## Pig Latin 1\n",
    "\n",
    "Pig Latin - вымышленный язык, который в конец каждого слова подставляет 'yay' (на самом деле оригинальные условия задачи несколько хитрее, но мы будем к ней возвращаться по ходу курса.\n",
    "\n",
    "**Формат ввода**  \n",
    "Пользователь вводит слова.\n",
    "\n",
    "**Формат вывода**\n",
    "Слово на Pig Latin.\n",
    "\n",
    "\n",
    "#### Примеры\n",
    "Тест 1  \n",
    "**Ввод:**  \n",
    "apple \n",
    "\n",
    "**Вывод:**  \n",
    "appleyay"
   ]
  },
  {
   "cell_type": "code",
   "execution_count": 23,
   "metadata": {},
   "outputs": [
    {
     "name": "stdout",
     "output_type": "stream",
     "text": [
      "Введите слово: apple\n",
      "appleyay\n"
     ]
    }
   ],
   "source": [
    "# (∩｀-´)⊃━☆ﾟ.*･｡ﾟ \n",
    "word = input('Введите слово: ')\n",
    "print(word+'yay')"
   ]
  },
  {
   "cell_type": "markdown",
   "metadata": {},
   "source": [
    "## (∩｀-´)⊃━☆ﾟ.*･｡ﾟ Задача\n",
    "\n",
    "## x потвторенное x раз в квадрате\n",
    "\n",
    "Вводится целое число X. Повторите его X раз и возведите полученное число в квадрат. Напечатайте получившееся.\n",
    "\n",
    "**Формат ввода**  \n",
    "Целое число\n",
    "\n",
    "**Формат вывод**  \n",
    "Ответ на задачу\n",
    "\n",
    "#### Примеры\n",
    "Тест 1  \n",
    "**Ввод:**  \n",
    "2  \n",
    "\n",
    "**Вывод:**  \n",
    "484"
   ]
  },
  {
   "cell_type": "code",
   "execution_count": 24,
   "metadata": {},
   "outputs": [
    {
     "name": "stdout",
     "output_type": "stream",
     "text": [
      "2\n"
     ]
    }
   ],
   "source": [
    "x = input() # СЕЙЧАС ЭТО СТРОКА"
   ]
  },
  {
   "cell_type": "code",
   "execution_count": 26,
   "metadata": {},
   "outputs": [
    {
     "data": {
      "text/plain": [
       "'22'"
      ]
     },
     "execution_count": 26,
     "metadata": {},
     "output_type": "execute_result"
    }
   ],
   "source": [
    "x_2 = x * int(x)\n",
    "x_2"
   ]
  },
  {
   "cell_type": "code",
   "execution_count": 28,
   "metadata": {},
   "outputs": [
    {
     "data": {
      "text/plain": [
       "484"
      ]
     },
     "execution_count": 28,
     "metadata": {},
     "output_type": "execute_result"
    }
   ],
   "source": [
    "int(x_2) ** int(x)"
   ]
  },
  {
   "cell_type": "code",
   "execution_count": null,
   "metadata": {},
   "outputs": [],
   "source": []
  },
  {
   "cell_type": "code",
   "execution_count": 6,
   "metadata": {},
   "outputs": [
    {
     "name": "stdout",
     "output_type": "stream",
     "text": [
      "484\n"
     ]
    }
   ],
   "source": [
    "x = input()\n",
    "print((int(x*int(x)))**2)"
   ]
  },
  {
   "cell_type": "markdown",
   "metadata": {},
   "source": [
    "## (∩｀-´)⊃━☆ﾟ.*･｡ﾟ  Задача\n",
    "## Хитрости умножения  \n",
    "\n",
    "Для умножения двузначного числа на 11 есть интересная хитрость: результат произведения можно получить если между первой и второй цифрой исходного числа вписать сумму этих цифр. Например, 15 * 11 = 1 1+5 5 = 165 или 34 * 11 = 3 3+4 4 = 374. Реализуйте программу, которая умножала бы двузначные числа на 11, используя эту хитрость. Пользоваться оператором умножения нельзя.  \n",
    "\n",
    "__Формат ввода:__  \n",
    "Вводится двузначное число.  \n",
    "__Формат вывода:__  \n",
    "Программа должна вывести ответ на задачу.  \n",
    "\n",
    "**Тест 1**  \n",
    "__Пример ввода:__  \n",
    "15   \n",
    "__Вывод:__  \n",
    "165  \n",
    "\n",
    "**Тест 2**  \n",
    "__Пример ввода:__   \n",
    "66      \n",
    "__Вывод:__   \n",
    "726   "
   ]
  },
  {
   "cell_type": "code",
   "execution_count": 7,
   "metadata": {},
   "outputs": [
    {
     "name": "stdout",
     "output_type": "stream",
     "text": [
      "726\n"
     ]
    }
   ],
   "source": [
    "# ваше решение здесь\n",
    "x = input()\n",
    "\n",
    "n1 = int(x[0])\n",
    "n2 = int(x[1])\n",
    "\n",
    "if n1 + n2 < 10:\n",
    "    print(str(n1) + str(n1+n2) + str(n2))\n",
    "else:\n",
    "    print(str(n1 + 1) + str((n1 + n2) % 10) + str(n2))"
   ]
  },
  {
   "cell_type": "markdown",
   "metadata": {},
   "source": [
    "## Форматирование строк (string formatting)\n",
    "А теперь посмотрим на то, как подставлять значения в уже имеющийся текстовый шаблон, то есть форматировать строки. Чтобы понять, о чём идет речь, можно представить, что у нас есть электронная анкета, которую заполняет пользователь, и мы должны написать программу, которая выводит на экран введенные данные, чтобы пользователь мог их проверить.\n",
    "\n",
    "Пусть для начала пользователь вводит свое имя и возраст."
   ]
  },
  {
   "cell_type": "code",
   "execution_count": 18,
   "metadata": {},
   "outputs": [
    {
     "name": "stdout",
     "output_type": "stream",
     "text": [
      "Введите Ваше имя: Nastya\n",
      "Введите Ваш возраст: 24\n"
     ]
    }
   ],
   "source": [
    "name = input(\"Введите Ваше имя: \")\n",
    "age = int(input(\"Введите Ваш возраст: \")) # возраст будет целочисленным"
   ]
  },
  {
   "cell_type": "markdown",
   "metadata": {},
   "source": [
    "Теперь выведем на экран сообщение вида\n",
    "\n",
    "`Ваше имя: `имя`. Ваш возраст: `возраст`.`\n",
    "\n",
    "Но прежде, чем это сделать, поймем, какого типа будут значения, которые мы будем подставлять в шаблон. Имя (переменная name) – это строка (string), а возраст (переменная age) – это целое число (integer)."
   ]
  },
  {
   "cell_type": "code",
   "execution_count": 27,
   "metadata": {},
   "outputs": [
    {
     "name": "stdout",
     "output_type": "stream",
     "text": [
      "Ваше имя: Nastya. Ваш возраст: 24.\n"
     ]
    }
   ],
   "source": [
    "result = \"Ваше имя: %s. Ваш возраст: %i.\" % (name, age)\n",
    "print(result)"
   ]
  },
  {
   "cell_type": "markdown",
   "metadata": {},
   "source": [
    "Что за таинственные %s и %i? Все просто: оператор % в строке указывает место, на которое будет подставляться значение, а буква сразу после процента – сокращённое название типа данных (s – от string и i – от integer). Осталось только сообщить Python, что именно нужно подставлять – после кавычек поставить % и в скобках перечислить названия переменных, значения которых мы будем подставлять.\n",
    "\n",
    "Для тех, кто работал в R: форматирование строк с помощью оператора % – аналог форматирования с помощью функции sprintf() в R.\n",
    "\n",
    "Примечание: не теряйте часть с переменными после самой строки. Иначе получится нечто странное:"
   ]
  },
  {
   "cell_type": "code",
   "execution_count": 28,
   "metadata": {},
   "outputs": [
    {
     "name": "stdout",
     "output_type": "stream",
     "text": [
      "Ваше имя: %s. Ваш возраст: %i.\n"
     ]
    }
   ],
   "source": [
    "print(\"Ваше имя: %s. Ваш возраст: %i.\")"
   ]
  },
  {
   "cell_type": "markdown",
   "metadata": {},
   "source": [
    "Важно помнить, что если мы забудем указать какую-то из переменных, мы получим ошибку (точнее, исключение): Python не будет знать, откуда брать нужные значения."
   ]
  },
  {
   "cell_type": "code",
   "execution_count": 6,
   "metadata": {},
   "outputs": [
    {
     "ename": "TypeError",
     "evalue": "not enough arguments for format string",
     "output_type": "error",
     "traceback": [
      "\u001b[1;31m---------------------------------------------------------------------------\u001b[0m",
      "\u001b[1;31mTypeError\u001b[0m                                 Traceback (most recent call last)",
      "\u001b[1;32m<ipython-input-6-2343aa81e176>\u001b[0m in \u001b[0;36m<module>\u001b[1;34m()\u001b[0m\n\u001b[1;32m----> 1\u001b[1;33m \u001b[0mprint\u001b[0m\u001b[1;33m(\u001b[0m\u001b[1;34m\"Ваше имя: %s. Ваш возраст: %i.\"\u001b[0m \u001b[1;33m%\u001b[0m \u001b[1;33m(\u001b[0m\u001b[0mname\u001b[0m\u001b[1;33m)\u001b[0m\u001b[1;33m)\u001b[0m\u001b[1;33m\u001b[0m\u001b[0m\n\u001b[0m",
      "\u001b[1;31mTypeError\u001b[0m: not enough arguments for format string"
     ]
    }
   ],
   "source": [
    "print(\"Ваше имя: %s. Ваш возраст: %i.\" % (name))"
   ]
  },
  {
   "cell_type": "markdown",
   "metadata": {},
   "source": [
    "Кроме того, создавая такие текстовые шаблоны, нужно обращать внимание на типы переменных, значения которых мы подставляем."
   ]
  },
  {
   "cell_type": "code",
   "execution_count": 7,
   "metadata": {},
   "outputs": [
    {
     "name": "stdout",
     "output_type": "stream",
     "text": [
      "Ваше имя: Олег. Ваш возраст: 32.\n"
     ]
    }
   ],
   "source": [
    "print(\"Ваше имя: %s. Ваш возраст: %s.\" % (name, age)) # так сработает"
   ]
  },
  {
   "cell_type": "code",
   "execution_count": 8,
   "metadata": {},
   "outputs": [
    {
     "ename": "TypeError",
     "evalue": "%i format: a number is required, not str",
     "output_type": "error",
     "traceback": [
      "\u001b[1;31m---------------------------------------------------------------------------\u001b[0m",
      "\u001b[1;31mTypeError\u001b[0m                                 Traceback (most recent call last)",
      "\u001b[1;32m<ipython-input-8-9c083ea32449>\u001b[0m in \u001b[0;36m<module>\u001b[1;34m()\u001b[0m\n\u001b[1;32m----> 1\u001b[1;33m \u001b[0mprint\u001b[0m\u001b[1;33m(\u001b[0m\u001b[1;34m\"Ваше имя: %i. Ваш возраст: %s.\"\u001b[0m \u001b[1;33m%\u001b[0m \u001b[1;33m(\u001b[0m\u001b[0mname\u001b[0m\u001b[1;33m,\u001b[0m \u001b[0mage\u001b[0m\u001b[1;33m)\u001b[0m\u001b[1;33m)\u001b[0m \u001b[1;31m# а так нет\u001b[0m\u001b[1;33m\u001b[0m\u001b[0m\n\u001b[0m",
      "\u001b[1;31mTypeError\u001b[0m: %i format: a number is required, not str"
     ]
    }
   ],
   "source": [
    "print(\"Ваше имя: %i. Ваш возраст: %s.\" % (name, age)) # а так нет"
   ]
  },
  {
   "cell_type": "markdown",
   "metadata": {},
   "source": [
    "В первом случае код сработал: Python не очень строго относится к типам данных, и поэтому он легко может превратить целочисленный возраст в строку (два %s вместо %s и %i не является помехой). Во втором случае все иначе. Превратить строку, которая состоит из букв (name) в целое число никак не получится, поэтому Python справедливо ругается.\n",
    "\n",
    "А что будет, если мы будем подставлять не целое число, а дробное, с плавающей точкой? Попробуем!"
   ]
  },
  {
   "cell_type": "code",
   "execution_count": 29,
   "metadata": {},
   "outputs": [
    {
     "name": "stdout",
     "output_type": "stream",
     "text": [
      "Введите Ваш рост (в метрах): 1.82\n"
     ]
    },
    {
     "data": {
      "text/plain": [
       "1.82"
      ]
     },
     "execution_count": 29,
     "metadata": {},
     "output_type": "execute_result"
    }
   ],
   "source": [
    "height = float(input(\"Введите Ваш рост (в метрах): \"))\n",
    "height"
   ]
  },
  {
   "cell_type": "code",
   "execution_count": 30,
   "metadata": {},
   "outputs": [
    {
     "name": "stdout",
     "output_type": "stream",
     "text": [
      "Ваш рост: 1.820000 м.\n"
     ]
    }
   ],
   "source": [
    "print(\"Ваш рост: %f м.\" % height) # f - от float"
   ]
  },
  {
   "cell_type": "markdown",
   "metadata": {},
   "source": [
    "По умолчанию при подстановке значений типа float Python выводит число с шестью знаками после запятой. Но это можно исправить. Перед f нужно поставить точку и указать число знаков после запятой, которое мы хотим:"
   ]
  },
  {
   "cell_type": "code",
   "execution_count": 31,
   "metadata": {},
   "outputs": [
    {
     "name": "stdout",
     "output_type": "stream",
     "text": [
      "Ваш рост: 1.82 м.\n"
     ]
    }
   ],
   "source": [
    "print(\"Ваш рост: %.2f м.\" % height) # например, два"
   ]
  },
  {
   "cell_type": "code",
   "execution_count": 32,
   "metadata": {},
   "outputs": [
    {
     "name": "stdout",
     "output_type": "stream",
     "text": [
      "Ваш рост: 1.8 м. \n"
     ]
    }
   ],
   "source": [
    "print(\"Ваш рост: %.1f м. \" % height) # или один"
   ]
  },
  {
   "cell_type": "markdown",
   "metadata": {},
   "source": [
    "В случае, если указанное число знаков после запятой меньше, чем есть на самом деле (как в ячейке выше), происходит обычное арифметическое округление.\n",
    "\n",
    "Рассмотренный выше способ форматирования строк – не единственный. Он довольно стандартный, но при этом немного устаревший. В Python 3 есть другой способ ‒ форматирование с помощью метода .format(). Кроме того, в Python 3.6 и более поздних версиях появился еще более продвинутый способ форматирования строк ‒ f-strings (formatted string literals).\n",
    "\n",
    "F-strings очень удобны и просты в использовании: вместо % и сокращённого названия типа в фигурных скобках внутри текстового шаблона нужно указать название переменной, из которой должно подставляться значение, а перед всей строкой добавить f, чтобы Python знал, что нам нужна именно f-string."
   ]
  },
  {
   "cell_type": "code",
   "execution_count": 37,
   "metadata": {},
   "outputs": [
    {
     "name": "stdout",
     "output_type": "stream",
     "text": [
      "Ваше имя: Nastya. Ваш возраст: 24. Рост: 1.82\n"
     ]
    }
   ],
   "source": [
    "print(f\"Ваше имя: {name}. Ваш возраст: {age}. Рост: {height:.2f}\")"
   ]
  },
  {
   "cell_type": "markdown",
   "metadata": {},
   "source": [
    "Альтерантивой такого кода будет следующий синтаксис. Здесь переменные вставятся в порядке \"упоминания\" в строке."
   ]
  },
  {
   "cell_type": "code",
   "execution_count": 34,
   "metadata": {},
   "outputs": [
    {
     "name": "stdout",
     "output_type": "stream",
     "text": [
      "Ваше имя: Nastya. Ваш возраст: 24\n"
     ]
    }
   ],
   "source": [
    "print(\"Ваше имя: {}. Ваш возраст: {}\".format(name, age))"
   ]
  },
  {
   "cell_type": "markdown",
   "metadata": {},
   "source": [
    "Форматирование дробей добавляем так."
   ]
  },
  {
   "cell_type": "code",
   "execution_count": 35,
   "metadata": {},
   "outputs": [
    {
     "name": "stdout",
     "output_type": "stream",
     "text": [
      "Ваше имя: Nastya. Ваш возраст: 24. Рост: 1.82\n"
     ]
    }
   ],
   "source": [
    "print(\"Ваше имя: {}. Ваш возраст: {}. Рост: {:.2f}\".format(name, age, height))"
   ]
  },
  {
   "cell_type": "markdown",
   "metadata": {},
   "source": [
    "Если указали формат переменной (.2f, например, ожидает float), то следим за порядком."
   ]
  },
  {
   "cell_type": "code",
   "execution_count": 17,
   "metadata": {},
   "outputs": [
    {
     "ename": "ValueError",
     "evalue": "Unknown format code 'f' for object of type 'str'",
     "output_type": "error",
     "traceback": [
      "\u001b[1;31m---------------------------------------------------------------------------\u001b[0m",
      "\u001b[1;31mValueError\u001b[0m                                Traceback (most recent call last)",
      "\u001b[1;32m<ipython-input-17-f42c355e5798>\u001b[0m in \u001b[0;36m<module>\u001b[1;34m()\u001b[0m\n\u001b[1;32m----> 1\u001b[1;33m \u001b[0mprint\u001b[0m\u001b[1;33m(\u001b[0m\u001b[1;34m\"Ваше имя: {}. Ваш возраст: {}. Рост: {:.2f}\"\u001b[0m\u001b[1;33m.\u001b[0m\u001b[0mformat\u001b[0m\u001b[1;33m(\u001b[0m\u001b[0mage\u001b[0m\u001b[1;33m,\u001b[0m \u001b[0mheight\u001b[0m\u001b[1;33m,\u001b[0m \u001b[0mname\u001b[0m\u001b[1;33m)\u001b[0m\u001b[1;33m)\u001b[0m\u001b[1;33m\u001b[0m\u001b[0m\n\u001b[0m",
      "\u001b[1;31mValueError\u001b[0m: Unknown format code 'f' for object of type 'str'"
     ]
    }
   ],
   "source": [
    "print(\"Ваше имя: {}. Ваш возраст: {}. Рост: {:.2f}\".format(age, height, name)) "
   ]
  },
  {
   "cell_type": "markdown",
   "metadata": {},
   "source": [
    "Порядок заполнения можно указывать с помощью нумерации. Одну и тоже переменную можно использовать несколько раз."
   ]
  },
  {
   "cell_type": "code",
   "execution_count": 32,
   "metadata": {},
   "outputs": [
    {
     "name": "stdout",
     "output_type": "stream",
     "text": [
      "Ваше имя: Олег. Ваш возраст: 32. Рост: 1.78. Все верно, Олег?\n"
     ]
    }
   ],
   "source": [
    "print(\"Ваше имя: {2}. Ваш возраст: {0}. Рост: {1:.2f}. Все верно, {2}?\".format(age, height, name)) "
   ]
  },
  {
   "cell_type": "markdown",
   "metadata": {},
   "source": [
    "Также при форматировании строк можно использовать результаты вычислений и результаты работы методах (о  них немного позже). name.upper() в примере делает все символы строки name заглавными."
   ]
  },
  {
   "cell_type": "code",
   "execution_count": 36,
   "metadata": {},
   "outputs": [
    {
     "name": "stdout",
     "output_type": "stream",
     "text": [
      "Ваше имя: ОЛЕГ. Ваш возраст: 32. Рост в футах: 5.84\n"
     ]
    }
   ],
   "source": [
    "print(f\"Ваше имя: {name.upper()}. Ваш возраст: {2020-1988}. Рост в футах: {height * 100 / 30.48 :.2f}\")"
   ]
  },
  {
   "cell_type": "markdown",
   "metadata": {},
   "source": [
    "## (∩｀-´)⊃━☆ﾟ.*･｡ﾟ  Задача\n",
    "## Pi\n",
    "\n",
    "Из модуля math импортируйте переменную pi. С помощью %f (первое предложение) и format (второе предложение) форматирования выведите строки из примера. Везде, где встречается число pi - это должна быть переменная pi, округленная до определенного знака после точки. \n",
    "\n",
    " \n",
    "__Формат вывода:__  \n",
    "`Значение 22/7 (3.14) является приближением числа pi (3.1416)`  \n",
    "`Значение 22/7 3.142 является приближением числа pi 3.141592653589793`\n",
    "\n"
   ]
  },
  {
   "cell_type": "code",
   "execution_count": 25,
   "metadata": {},
   "outputs": [
    {
     "name": "stdout",
     "output_type": "stream",
     "text": [
      "3.141592653589793\n",
      "Значение 22/7 (3.14) является приближением числа pi (3.1416)\n",
      "Значение 22/7 3.142 является приближением числа pi 3.141592653589793\n"
     ]
    }
   ],
   "source": [
    "import math\n",
    "print(math.pi)\n",
    "print('Значение 22/7 (%.2f) является приближением числа pi (%.4f)' % (math.pi, math.pi))\n",
    "print(f'Значение 22/7 {math.pi:.3f} является приближением числа pi {math.pi}')"
   ]
  },
  {
   "cell_type": "markdown",
   "metadata": {},
   "source": [
    "# Функция print(): аргументы и параметры"
   ]
  },
  {
   "cell_type": "markdown",
   "metadata": {},
   "source": [
    "И еще немного поговорим про форматирование вывода. Это вам пригодится, если будете решать много задача на разных сайтах вроде hackerrank, где ответ нужно выводить каким-то хитрым образом. На самом деле функция print() немного сложнее, чем то, что мы уже видели. Например, мы можем печатать одной функцией больше чем один аргумент и использовать разделители вместо пробелов. "
   ]
  },
  {
   "cell_type": "code",
   "execution_count": 29,
   "metadata": {},
   "outputs": [
    {
     "name": "stdout",
     "output_type": "stream",
     "text": [
      "2\n"
     ]
    }
   ],
   "source": [
    "print(x)"
   ]
  },
  {
   "cell_type": "code",
   "execution_count": 30,
   "metadata": {},
   "outputs": [],
   "source": [
    "a = 2\n",
    "b = 4"
   ]
  },
  {
   "cell_type": "code",
   "execution_count": 38,
   "metadata": {},
   "outputs": [
    {
     "name": "stdout",
     "output_type": "stream",
     "text": [
      "2**499\n"
     ]
    }
   ],
   "source": [
    "print(a, b, sep='**', end='')\n",
    "print(99)"
   ]
  },
  {
   "cell_type": "code",
   "execution_count": 26,
   "metadata": {},
   "outputs": [
    {
     "name": "stdout",
     "output_type": "stream",
     "text": [
      "2 + 3 = 5\n",
      "2 + 3 = 5\n"
     ]
    }
   ],
   "source": [
    "print('2 + 3 =', 2 + 3)\n",
    "z = 5\n",
    "print('2 + 3 =', z)"
   ]
  },
  {
   "cell_type": "markdown",
   "metadata": {},
   "source": [
    "У функции print есть параметры. Параметры - это такие свойства функций, которые задают значение невидимых нам аргументов внутри функции. Так существует параметр sep (separator), благодаря которому мы можем менять тип разделителя между аргументами print. В качестве разделителя может выступать любая строка.  \n",
    "Сравните:"
   ]
  },
  {
   "cell_type": "code",
   "execution_count": 29,
   "metadata": {},
   "outputs": [
    {
     "name": "stdout",
     "output_type": "stream",
     "text": [
      "1 2 3\n",
      "1.2.3\n",
      "123\n",
      "1\n",
      "2\n",
      "3\n"
     ]
    }
   ],
   "source": [
    "print('1', '2', '3')\n",
    "print('1', '2', '3', sep='.')\n",
    "print('1', '2', '3', sep='')\n",
    "print('1', '2', '3', sep='\\n')"
   ]
  },
  {
   "cell_type": "markdown",
   "metadata": {},
   "source": [
    "Параметр end задает то, что будет выведено в конце исполнения функции print. По умолчанию там стоит \n",
    "невидимый символ '\\n', который осуществляет переход на новую строку. Мы можем заменить его на любую строку. \n",
    "Если мы хотим сохранить переход на новую строку - то обязательно прописываем наш невидимый символ внутри\n",
    "выражения."
   ]
  },
  {
   "cell_type": "code",
   "execution_count": 28,
   "metadata": {},
   "outputs": [
    {
     "name": "stdout",
     "output_type": "stream",
     "text": [
      "1.2.3!2\n",
      "1.2.3!\n",
      "2\n"
     ]
    }
   ],
   "source": [
    "print('1', '2', '3', sep='.', end='!')\n",
    "print('2')  # строки слились\n",
    "\n",
    "print('1', '2', '3', sep='.', end='!\\n')\n",
    "print('2')  # вывод на новой строке\n"
   ]
  },
  {
   "cell_type": "code",
   "execution_count": 39,
   "metadata": {},
   "outputs": [
    {
     "name": "stdout",
     "output_type": "stream",
     "text": [
      "The Zen of Python, by Tim Peters\n",
      "\n",
      "Beautiful is better than ugly.\n",
      "Explicit is better than implicit.\n",
      "Simple is better than complex.\n",
      "Complex is better than complicated.\n",
      "Flat is better than nested.\n",
      "Sparse is better than dense.\n",
      "Readability counts.\n",
      "Special cases aren't special enough to break the rules.\n",
      "Although practicality beats purity.\n",
      "Errors should never pass silently.\n",
      "Unless explicitly silenced.\n",
      "In the face of ambiguity, refuse the temptation to guess.\n",
      "There should be one-- and preferably only one --obvious way to do it.\n",
      "Although that way may not be obvious at first unless you're Dutch.\n",
      "Now is better than never.\n",
      "Although never is often better than *right* now.\n",
      "If the implementation is hard to explain, it's a bad idea.\n",
      "If the implementation is easy to explain, it may be a good idea.\n",
      "Namespaces are one honking great idea -- let's do more of those!\n"
     ]
    }
   ],
   "source": [
    "import this"
   ]
  },
  {
   "cell_type": "code",
   "execution_count": 40,
   "metadata": {},
   "outputs": [
    {
     "name": "stdout",
     "output_type": "stream",
     "text": [
      "3\n",
      "14\n",
      "0\n"
     ]
    }
   ],
   "source": [
    "n = int(input())\n",
    "k = int(input())\n",
    "x = n // k\n",
    "print(x)"
   ]
  }
 ],
 "metadata": {
  "kernelspec": {
   "display_name": "Python 3",
   "language": "python",
   "name": "python3"
  },
  "language_info": {
   "codemirror_mode": {
    "name": "ipython",
    "version": 3
   },
   "file_extension": ".py",
   "mimetype": "text/x-python",
   "name": "python",
   "nbconvert_exporter": "python",
   "pygments_lexer": "ipython3",
   "version": "3.6.6"
  },
  "toc": {
   "base_numbering": 1,
   "nav_menu": {},
   "number_sections": true,
   "sideBar": true,
   "skip_h1_title": false,
   "title_cell": "Table of Contents",
   "title_sidebar": "Contents",
   "toc_cell": false,
   "toc_position": {},
   "toc_section_display": true,
   "toc_window_display": false
  },
  "varInspector": {
   "cols": {
    "lenName": 16,
    "lenType": 16,
    "lenVar": 40
   },
   "kernels_config": {
    "python": {
     "delete_cmd_postfix": "",
     "delete_cmd_prefix": "del ",
     "library": "var_list.py",
     "varRefreshCmd": "print(var_dic_list())"
    },
    "r": {
     "delete_cmd_postfix": ") ",
     "delete_cmd_prefix": "rm(",
     "library": "var_list.r",
     "varRefreshCmd": "cat(var_dic_list()) "
    }
   },
   "types_to_exclude": [
    "module",
    "function",
    "builtin_function_or_method",
    "instance",
    "_Feature"
   ],
   "window_display": false
  }
 },
 "nbformat": 4,
 "nbformat_minor": 2
}
